{
 "cells": [
  {
   "cell_type": "code",
   "execution_count": 13,
   "metadata": {},
   "outputs": [],
   "source": [
    "from nwg_panel.tools import h_list_workspaces, h_list_monitors, h_get_active_workspace, h_list_clients, hyprctl, h_list_workspace_rules"
   ]
  },
  {
   "cell_type": "code",
   "execution_count": 16,
   "metadata": {},
   "outputs": [
    {
     "data": {
      "text/plain": [
       "[{'id': 1,\n",
       "  'name': '1',\n",
       "  'monitor': 'eDP-1',\n",
       "  'monitorID': 0,\n",
       "  'windows': 1,\n",
       "  'hasfullscreen': False,\n",
       "  'lastwindow': '0x598057f66130',\n",
       "  'lastwindowtitle': 'QPS - Notes - Obsidian v1.7.7'},\n",
       " {'id': 11,\n",
       "  'name': '11',\n",
       "  'monitor': 'eDP-1',\n",
       "  'monitorID': 0,\n",
       "  'windows': 1,\n",
       "  'hasfullscreen': False,\n",
       "  'lastwindow': '0x598058610190',\n",
       "  'lastwindowtitle': 'Sort in Python: Everything You Need to Know About it — Mozilla Firefox'},\n",
       " {'id': 12,\n",
       "  'name': '12',\n",
       "  'monitor': 'eDP-1',\n",
       "  'monitorID': 0,\n",
       "  'windows': 1,\n",
       "  'hasfullscreen': False,\n",
       "  'lastwindow': '0x5980590d41b0',\n",
       "  'lastwindowtitle': 'nwg-shell-config'},\n",
       " {'id': 13,\n",
       "  'name': '13',\n",
       "  'monitor': 'eDP-1',\n",
       "  'monitorID': 0,\n",
       "  'windows': 0,\n",
       "  'hasfullscreen': False,\n",
       "  'lastwindow': '0x0',\n",
       "  'lastwindowtitle': ''},\n",
       " {'id': 14,\n",
       "  'name': '14',\n",
       "  'monitor': 'eDP-1',\n",
       "  'monitorID': 0,\n",
       "  'windows': 0,\n",
       "  'hasfullscreen': False,\n",
       "  'lastwindow': '0x0',\n",
       "  'lastwindowtitle': ''},\n",
       " {'id': 15,\n",
       "  'name': '15',\n",
       "  'monitor': 'eDP-1',\n",
       "  'monitorID': 0,\n",
       "  'windows': 1,\n",
       "  'hasfullscreen': False,\n",
       "  'lastwindow': '0x598058e468e0',\n",
       "  'lastwindowtitle': 'QPS_anlaytic_numerical_safe.ipynb - codes - Visual Studio Code'},\n",
       " {'id': 2,\n",
       "  'name': '2',\n",
       "  'monitor': 'eDP-1',\n",
       "  'monitorID': 0,\n",
       "  'windows': 1,\n",
       "  'hasfullscreen': False,\n",
       "  'lastwindow': '0x598058e63f50',\n",
       "  'lastwindowtitle': 'papers (Channel) - kochgroup - Slack'},\n",
       " {'id': 3,\n",
       "  'name': '3',\n",
       "  'monitor': 'eDP-1',\n",
       "  'monitorID': 0,\n",
       "  'windows': 1,\n",
       "  'hasfullscreen': False,\n",
       "  'lastwindow': '0x5980590fff40',\n",
       "  'lastwindowtitle': '● test.ipynb - nwg-panel - Visual Studio Code'},\n",
       " {'id': 4,\n",
       "  'name': '4',\n",
       "  'monitor': 'eDP-1',\n",
       "  'monitorID': 0,\n",
       "  'windows': 3,\n",
       "  'hasfullscreen': False,\n",
       "  'lastwindow': '0x5980581f6390',\n",
       "  'lastwindowtitle': 'workspaces.conf  — Kate'},\n",
       " {'id': 5,\n",
       "  'name': '5',\n",
       "  'monitor': 'eDP-1',\n",
       "  'monitorID': 0,\n",
       "  'windows': 0,\n",
       "  'hasfullscreen': False,\n",
       "  'lastwindow': '0x0',\n",
       "  'lastwindowtitle': ''},\n",
       " {'id': 6,\n",
       "  'name': '6',\n",
       "  'monitor': 'eDP-1',\n",
       "  'monitorID': 0,\n",
       "  'windows': 0,\n",
       "  'hasfullscreen': False,\n",
       "  'lastwindow': '0x0',\n",
       "  'lastwindowtitle': ''},\n",
       " {'id': 7,\n",
       "  'name': '7',\n",
       "  'monitor': 'eDP-1',\n",
       "  'monitorID': 0,\n",
       "  'windows': 0,\n",
       "  'hasfullscreen': False,\n",
       "  'lastwindow': '0x0',\n",
       "  'lastwindowtitle': ''},\n",
       " {'id': 8,\n",
       "  'name': '8',\n",
       "  'monitor': 'eDP-1',\n",
       "  'monitorID': 0,\n",
       "  'windows': 0,\n",
       "  'hasfullscreen': False,\n",
       "  'lastwindow': '0x0',\n",
       "  'lastwindowtitle': ''},\n",
       " {'id': 9,\n",
       "  'name': '9',\n",
       "  'monitor': 'eDP-1',\n",
       "  'monitorID': 0,\n",
       "  'windows': 0,\n",
       "  'hasfullscreen': False,\n",
       "  'lastwindow': '0x0',\n",
       "  'lastwindowtitle': ''},\n",
       " {'id': 10,\n",
       "  'name': '10',\n",
       "  'monitor': 'eDP-1',\n",
       "  'monitorID': 0,\n",
       "  'windows': 1,\n",
       "  'hasfullscreen': False,\n",
       "  'lastwindow': '0x59805903d850',\n",
       "  'lastwindowtitle': 'Efficacy of Dialectical Behavior Therapy in the Treatment of Borderline Personality Disorder: A Systematic Review of Randomized Controlled Trials - PMC — Mozilla Firefox'}]"
      ]
     },
     "execution_count": 16,
     "metadata": {},
     "output_type": "execute_result"
    }
   ],
   "source": [
    "h_list_workspaces()"
   ]
  },
  {
   "cell_type": "code",
   "execution_count": 15,
   "metadata": {},
   "outputs": [
    {
     "data": {
      "text/plain": [
       "[{'workspaceString': '1', 'monitor': 'eDP-1', 'persistent': True},\n",
       " {'workspaceString': '2', 'monitor': 'eDP-1', 'persistent': True},\n",
       " {'workspaceString': '3', 'monitor': 'eDP-1', 'persistent': True},\n",
       " {'workspaceString': '4', 'monitor': 'eDP-1', 'persistent': True},\n",
       " {'workspaceString': '5', 'monitor': 'eDP-1', 'persistent': True},\n",
       " {'workspaceString': '6', 'monitor': 'eDP-1', 'persistent': True},\n",
       " {'workspaceString': '7', 'monitor': 'eDP-1', 'persistent': True},\n",
       " {'workspaceString': '8', 'monitor': 'eDP-1', 'persistent': True},\n",
       " {'workspaceString': '9', 'monitor': 'eDP-1', 'persistent': True},\n",
       " {'workspaceString': '10', 'monitor': 'eDP-1', 'persistent': True},\n",
       " {'workspaceString': '16', 'monitor': 'eDP-1'},\n",
       " {'workspaceString': '11', 'monitor': 'HDMI-1', 'persistent': True},\n",
       " {'workspaceString': '12', 'monitor': 'HDMI-1', 'persistent': True},\n",
       " {'workspaceString': '13', 'monitor': 'HDMI-1', 'persistent': True},\n",
       " {'workspaceString': '14', 'monitor': 'HDMI-1', 'persistent': True},\n",
       " {'workspaceString': '15', 'monitor': 'HDMI-1', 'persistent': True}]"
      ]
     },
     "execution_count": 15,
     "metadata": {},
     "output_type": "execute_result"
    }
   ],
   "source": [
    "h_list_workspace_rules()"
   ]
  },
  {
   "cell_type": "code",
   "execution_count": 31,
   "metadata": {},
   "outputs": [],
   "source": [
    "for i in range(15, 23):\n",
    "    hyprctl(f\"dispatch workspace {i}\")"
   ]
  },
  {
   "cell_type": "code",
   "execution_count": 18,
   "metadata": {},
   "outputs": [],
   "source": [
    "mons = h_list_monitors()\n",
    "workspaces = h_list_workspaces()\n",
    "clients = h_list_clients()"
   ]
  },
  {
   "cell_type": "code",
   "execution_count": 26,
   "metadata": {},
   "outputs": [
    {
     "data": {
      "text/plain": [
       "{'address': '0x62b452b9ff40',\n",
       " 'mapped': True,\n",
       " 'hidden': False,\n",
       " 'at': [2884, 36],\n",
       " 'size': [952, 1040],\n",
       " 'workspace': {'id': 2, 'name': '2'},\n",
       " 'floating': False,\n",
       " 'pseudo': False,\n",
       " 'monitor': 0,\n",
       " 'class': 'nwg-shell-config',\n",
       " 'title': 'nwg-shell-config',\n",
       " 'initialClass': 'nwg-shell-config',\n",
       " 'initialTitle': 'nwg-shell-config',\n",
       " 'pid': 559185,\n",
       " 'xwayland': False,\n",
       " 'pinned': False,\n",
       " 'fullscreen': 0,\n",
       " 'fullscreenClient': 0,\n",
       " 'grouped': [],\n",
       " 'tags': [],\n",
       " 'swallowing': '0x0',\n",
       " 'focusHistoryID': 6,\n",
       " 'inhibitingIdle': False}"
      ]
     },
     "execution_count": 26,
     "metadata": {},
     "output_type": "execute_result"
    }
   ],
   "source": [
    "clients[4]"
   ]
  },
  {
   "cell_type": "code",
   "execution_count": 17,
   "metadata": {},
   "outputs": [
    {
     "data": {
      "text/plain": [
       "{'id': 1,\n",
       " 'name': 'HDMI-A-1',\n",
       " 'description': 'HP Inc. HP 24mh 3CM1370MZB',\n",
       " 'make': 'HP Inc.',\n",
       " 'model': 'HP 24mh',\n",
       " 'serial': '3CM1370MZB   ',\n",
       " 'width': 1920,\n",
       " 'height': 1080,\n",
       " 'refreshRate': 60.0,\n",
       " 'x': 0,\n",
       " 'y': 0,\n",
       " 'activeWorkspace': {'id': 12, 'name': '12'},\n",
       " 'specialWorkspace': {'id': 0, 'name': ''},\n",
       " 'reserved': [0, 19, 0, 0],\n",
       " 'scale': 1.0,\n",
       " 'transform': 0,\n",
       " 'focused': True,\n",
       " 'dpmsStatus': True,\n",
       " 'vrr': False,\n",
       " 'solitary': '0',\n",
       " 'activelyTearing': False,\n",
       " 'directScanoutTo': '0',\n",
       " 'disabled': False,\n",
       " 'currentFormat': 'XRGB8888',\n",
       " 'mirrorOf': 'none',\n",
       " 'availableModes': ['1920x1080@60.00Hz',\n",
       "  '1920x1080@74.97Hz',\n",
       "  '1920x1080@60.00Hz',\n",
       "  '1920x1080@59.94Hz',\n",
       "  '1920x1080@50.00Hz',\n",
       "  '1920x1080@50.00Hz',\n",
       "  '1680x1050@59.88Hz',\n",
       "  '1600x900@60.00Hz',\n",
       "  '1280x1024@60.02Hz',\n",
       "  '1440x900@59.90Hz',\n",
       "  '1280x800@59.91Hz',\n",
       "  '1280x720@60.00Hz',\n",
       "  '1280x720@60.00Hz',\n",
       "  '1280x720@59.94Hz',\n",
       "  '1280x720@50.00Hz',\n",
       "  '1280x720@50.00Hz',\n",
       "  '1024x768@60.00Hz',\n",
       "  '800x600@60.32Hz',\n",
       "  '720x576@50.00Hz',\n",
       "  '720x576@50.00Hz',\n",
       "  '720x480@60.00Hz',\n",
       "  '720x480@60.00Hz',\n",
       "  '720x480@59.94Hz',\n",
       "  '720x480@59.94Hz',\n",
       "  '640x480@60.00Hz',\n",
       "  '640x480@59.94Hz',\n",
       "  '640x480@59.94Hz',\n",
       "  '720x400@70.08Hz']}"
      ]
     },
     "execution_count": 17,
     "metadata": {},
     "output_type": "execute_result"
    }
   ],
   "source": [
    "mons[1]"
   ]
  },
  {
   "cell_type": "code",
   "execution_count": 1,
   "metadata": {},
   "outputs": [],
   "source": [
    "import os\n",
    "his = os.getenv('HYPRLAND_INSTANCE_SIGNATURE')\n",
    "\n",
    "def hypr_watcher():\n",
    "    import socket\n",
    "\n",
    "    # /tmp/hypr moved to $XDG_RUNTIME_DIR/hypr in #5788\n",
    "    xdg_runtime_dir = os.getenv(\"XDG_RUNTIME_DIR\")\n",
    "    hypr_dir = f\"{xdg_runtime_dir}/hypr\" if xdg_runtime_dir and os.path.isdir(\n",
    "        f\"{xdg_runtime_dir}/hypr\") else \"/tmp/hypr\"\n",
    "\n",
    "    client = socket.socket(socket.AF_UNIX, socket.SOCK_STREAM)\n",
    "    client.connect(f\"{hypr_dir}/{his}/.socket2.sock\")\n",
    "    just_refreshed = False\n",
    "\n",
    "    while True:\n",
    "        datagram = client.recv(2048)\n",
    "        e_full_string = datagram.decode('utf-8', errors='replace').strip()\n",
    "        lines = e_full_string.splitlines()\n",
    "\n",
    "        event_dict = {}\n",
    "        for line in lines:\n",
    "            event_dict[line.split(\">>\")[0]] = line.split(\">>\")[1]\n",
    "        print(f\"events: {event_dict}\")\n",
    "        # print(f\"events: {event_names}\")\n",
    "\n",
    "        # for event_name in event_names:\n",
    "        #     if common_settings[\"restart-on-display\"] and (event_name in [\"monitoradded\", \"monitorremoved\"]):\n",
    "        #         print(\"Received event '{}'; restart in {} ms.\".format(event_name, common_settings[\"restart-delay\"]))\n",
    "        #         GLib.timeout_add(common_settings[\"restart-delay\"], restart, priority=GLib.PRIORITY_HIGH)\n",
    "\n",
    "        #     if event_name in [\"activespecial\",\n",
    "        #                       \"activewindow\",\n",
    "        #                       \"activewindowv2\",\n",
    "        #                       \"changefloatingmode\",\n",
    "        #                       \"closewindow\",\n",
    "        #                       \"createworkspace\",\n",
    "        #                       \"destroyworkspace\",\n",
    "        #                       \"focusedmon\",\n",
    "        #                       \"monitoradded\",\n",
    "        #                       \"movewindow\",\n",
    "        #                       \"openwindow\",\n",
    "        #                       \"windowtitle\",\n",
    "        #                       \"workspace\"]:\n",
    "\n",
    "        #         if \"activewindow\" in event_name and just_refreshed:\n",
    "        #             just_refreshed = False\n",
    "        #             break\n",
    "\n",
    "        #         # print(f\">>> refreshing on {event_name}\")\n",
    "        #         monitors, workspaces, clients, activewindow, activeworkspace = h_modules_get_all()\n",
    "        #         for item in common.h_taskbars_list:\n",
    "        #             GLib.timeout_add(0, item.refresh, monitors, workspaces, clients, activewindow)\n",
    "\n",
    "        #         for item in common.h_workspaces_list:\n",
    "        #             GLib.timeout_add(0, item.refresh, monitors, workspaces, clients, activewindow, activeworkspace)\n",
    "\n",
    "        #         if event_name in [\"createworkspace\", \"destroyworkspace\", \"focusedmon\", \"workspace\"]:\n",
    "        #             just_refreshed = True\n",
    "        #         break\n",
    "\n",
    "        #     elif event_name == \"submap\":\n",
    "        #         for item in common.h_submaps_list:\n",
    "        #             GLib.timeout_add(0, item.refresh)"
   ]
  },
  {
   "cell_type": "code",
   "execution_count": 6,
   "metadata": {},
   "outputs": [
    {
     "name": "stdout",
     "output_type": "stream",
     "text": [
      "events: {'activewindow': ',', 'activewindowv2': '', 'workspace': '15', 'workspacev2': '15,15'}\n",
      "events: {'activewindow': 'code,● test.ipynb - nwg-panel - Visual Studio Code', 'activewindowv2': '60f912c7c950'}\n",
      "events: {'workspace': '13', 'workspacev2': '13,13'}\n",
      "events: {'activewindow': ',', 'activewindowv2': ''}\n",
      "events: {'workspace': '15', 'workspacev2': '15,15'}\n",
      "events: {'activewindow': 'code,● test.ipynb - nwg-panel - Visual Studio Code', 'activewindowv2': '60f912c7c950', 'workspace': '13', 'workspacev2': '13,13'}\n"
     ]
    },
    {
     "ename": "KeyboardInterrupt",
     "evalue": "",
     "output_type": "error",
     "traceback": [
      "\u001b[0;31m---------------------------------------------------------------------------\u001b[0m",
      "\u001b[0;31mKeyboardInterrupt\u001b[0m                         Traceback (most recent call last)",
      "Cell \u001b[0;32mIn[6], line 1\u001b[0m\n\u001b[0;32m----> 1\u001b[0m \u001b[43mhypr_watcher\u001b[49m\u001b[43m(\u001b[49m\u001b[43m)\u001b[49m\n",
      "Cell \u001b[0;32mIn[1], line 17\u001b[0m, in \u001b[0;36mhypr_watcher\u001b[0;34m()\u001b[0m\n\u001b[1;32m     14\u001b[0m just_refreshed \u001b[38;5;241m=\u001b[39m \u001b[38;5;28;01mFalse\u001b[39;00m\n\u001b[1;32m     16\u001b[0m \u001b[38;5;28;01mwhile\u001b[39;00m \u001b[38;5;28;01mTrue\u001b[39;00m:\n\u001b[0;32m---> 17\u001b[0m     datagram \u001b[38;5;241m=\u001b[39m \u001b[43mclient\u001b[49m\u001b[38;5;241;43m.\u001b[39;49m\u001b[43mrecv\u001b[49m\u001b[43m(\u001b[49m\u001b[38;5;241;43m2048\u001b[39;49m\u001b[43m)\u001b[49m\n\u001b[1;32m     18\u001b[0m     e_full_string \u001b[38;5;241m=\u001b[39m datagram\u001b[38;5;241m.\u001b[39mdecode(\u001b[38;5;124m'\u001b[39m\u001b[38;5;124mutf-8\u001b[39m\u001b[38;5;124m'\u001b[39m, errors\u001b[38;5;241m=\u001b[39m\u001b[38;5;124m'\u001b[39m\u001b[38;5;124mreplace\u001b[39m\u001b[38;5;124m'\u001b[39m)\u001b[38;5;241m.\u001b[39mstrip()\n\u001b[1;32m     19\u001b[0m     lines \u001b[38;5;241m=\u001b[39m e_full_string\u001b[38;5;241m.\u001b[39msplitlines()\n",
      "\u001b[0;31mKeyboardInterrupt\u001b[0m: "
     ]
    }
   ],
   "source": [
    "hypr_watcher()"
   ]
  }
 ],
 "metadata": {
  "kernelspec": {
   "display_name": "gui",
   "language": "python",
   "name": "python3"
  },
  "language_info": {
   "codemirror_mode": {
    "name": "ipython",
    "version": 3
   },
   "file_extension": ".py",
   "mimetype": "text/x-python",
   "name": "python",
   "nbconvert_exporter": "python",
   "pygments_lexer": "ipython3",
   "version": "3.13.1"
  }
 },
 "nbformat": 4,
 "nbformat_minor": 2
}
